{
 "cells": [
  {
   "cell_type": "code",
   "execution_count": 1,
   "id": "f2f857c4",
   "metadata": {},
   "outputs": [],
   "source": [
    "from google.cloud import bigquery"
   ]
  },
  {
   "cell_type": "code",
   "execution_count": 3,
   "id": "7d770774",
   "metadata": {},
   "outputs": [],
   "source": [
    "PROJECT_ID = \"gen-lang-client-0861341623\""
   ]
  },
  {
   "cell_type": "code",
   "execution_count": null,
   "id": "981ad583",
   "metadata": {},
   "outputs": [],
   "source": [
    "def copy_table(source_table_id: str, destination_table_id: str) -> None:\n",
    "    # [START bigquery_copy_table]\n",
    "\n",
    "    # Construct a BigQuery client object.\n",
    "    client = bigquery.Client(project=PROJECT_ID)\n",
    "\n",
    "    # TODO(developer): Set source_table_id to the ID of the original table.\n",
    "    # source_table_id = \"your-project.source_dataset.source_table\"\n",
    "\n",
    "    # TODO(developer): Set destination_table_id to the ID of the destination table.\n",
    "    # destination_table_id = \"your-project.destination_dataset.destination_table\"\n",
    "\n",
    "    job = client.copy_table(source_table_id, destination_table_id)\n",
    "    job.result()  # Wait for the job to complete.\n",
    "\n",
    "    print(\"A copy of the table created.\")\n",
    "    # [END bigquery_copy_table]"
   ]
  },
  {
   "cell_type": "code",
   "execution_count": null,
   "id": "abd799f7",
   "metadata": {},
   "outputs": [],
   "source": [
    "def create_dataset(dataset_id: str) -> None:\n",
    "    # [START bigquery_create_dataset]\n",
    "    from google.cloud import bigquery\n",
    "\n",
    "    # Construct a BigQuery client object.\n",
    "    client = bigquery.Client(project=PROJECT_ID)\n",
    "\n",
    "    # TODO(developer): Set dataset_id to the ID of the dataset to create.\n",
    "    # dataset_id = \"{}.your_dataset\".format(client.project)\n",
    "\n",
    "    # Construct a full Dataset object to send to the API.\n",
    "    dataset = bigquery.Dataset(dataset_id)\n",
    "\n",
    "    # TODO(developer): Specify the geographic location where the dataset should reside.\n",
    "    dataset.location = \"US\"\n",
    "\n",
    "    # Send the dataset to the API for creation, with an explicit timeout.\n",
    "    # Raises google.api_core.exceptions.Conflict if the Dataset already\n",
    "    # exists within the project.\n",
    "    dataset = client.create_dataset(dataset, timeout=30)  # Make an API request.\n",
    "    print(\"Created dataset {}.{}\".format(client.project, dataset.dataset_id))\n",
    "    # [END bigquery_create_dataset]"
   ]
  },
  {
   "cell_type": "code",
   "execution_count": null,
   "id": "e7753d58",
   "metadata": {},
   "outputs": [],
   "source": [
    "create_dataset(dataset_id=\"\")"
   ]
  },
  {
   "cell_type": "code",
   "execution_count": null,
   "id": "8dc25a84",
   "metadata": {},
   "outputs": [],
   "source": []
  }
 ],
 "metadata": {
  "kernelspec": {
   "display_name": ".venv",
   "language": "python",
   "name": "python3"
  },
  "language_info": {
   "codemirror_mode": {
    "name": "ipython",
    "version": 3
   },
   "file_extension": ".py",
   "mimetype": "text/x-python",
   "name": "python",
   "nbconvert_exporter": "python",
   "pygments_lexer": "ipython3",
   "version": "3.11.4"
  }
 },
 "nbformat": 4,
 "nbformat_minor": 5
}
